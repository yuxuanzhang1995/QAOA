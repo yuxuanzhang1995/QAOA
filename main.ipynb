{
 "cells": [
  {
   "cell_type": "code",
   "execution_count": 21,
   "metadata": {},
   "outputs": [],
   "source": [
    "from qiskit import (\n",
    "    Aer,\n",
    "    QuantumCircuit,\n",
    "    execute\n",
    ");\n",
    "\n",
    "from qiskit.circuit import (\n",
    "    Parameter\n",
    ");\n",
    "\n",
    "from matplotlib import (\n",
    "    pyplot\n",
    ");\n",
    "\n",
    "from random import (\n",
    "    randint,\n",
    "    uniform\n",
    ");\n",
    "\n",
    "from math import pi\n",
    "import numpy\n",
    "import networkx as nx\n",
    "import cirq"
   ]
  },
  {
   "cell_type": "markdown",
   "metadata": {},
   "source": [
    "### The Cost Function\n",
    "\n",
    "    $$H_C= \\sum_{k=2}^{\\ell} S_{e,k}^{z} * (k -1)$$\n",
    "    \n",
    "\n",
    "where l is the number of edges; since we only consider directed graph $k$ ranges from 0 to $\\ell - 1$\n",
    "\n",
    "   $$ U^+_{e}=\\sum_{k=1}^{2\\ell} S_{e,k}^{+}S_{e,k}^{-}$$\n",
    "    \n",
    "   $$ E_{e}=\\sum_{k=0}^{\\ell } S_{e,k}^{z} * (\\ell +1-k)$$\n",
    "   \n",
    "### The Mixing Hamiltonian\n",
    "\n",
    "   $$ H_M = \\sum_{e,k} E_{e,k}^{2}+ \\sum_{\\circ}\\left(U_{\\circ}+U_{\\circ}^{\\dagger}\\right)$$\n"
   ]
  },
  {
   "cell_type": "code",
   "execution_count": 13,
   "metadata": {},
   "outputs": [
    {
     "name": "stdout",
     "output_type": "stream",
     "text": [
      "Enter the number of vertices:3\n",
      "Enter the entries rowwise:\n",
      "0\n",
      "1\n",
      "1\n",
      "1\n",
      "0\n",
      "1\n",
      "1\n",
      "1\n",
      "0\n",
      "0 1 1 \n",
      "1 0 1 \n",
      "1 1 0 \n"
     ]
    }
   ],
   "source": [
    "# Input adjancency matrix\n",
    "n = int(input(\"Enter the number of vertices:\")) \n",
    "  \n",
    "# Initialize matrix \n",
    "Am= [] \n",
    "print(\"Enter the entries rowwise:\") \n",
    "  \n",
    "for i in range(n):          \n",
    "    a =[] \n",
    "    for j in range(n):      \n",
    "         a.append(int(input())) \n",
    "    Am.append(a) \n",
    "#Print matrix \n",
    "for i in range(n): \n",
    "    for j in range(n): \n",
    "        print(Am[i][j], end = \" \") \n",
    "    print() "
   ]
  },
  {
   "cell_type": "code",
   "execution_count": 63,
   "metadata": {},
   "outputs": [
    {
     "data": {
      "text/plain": [
       "0"
      ]
     },
     "execution_count": 63,
     "metadata": {},
     "output_type": "execute_result"
    }
   ],
   "source": [
    "[1,2,3].count (5)"
   ]
  },
  {
   "cell_type": "code",
   "execution_count": 52,
   "metadata": {
    "scrolled": true
   },
   "outputs": [
    {
     "name": "stdout",
     "output_type": "stream",
     "text": [
      "[[0, 1]] [[0, 2, 1], [0, 1, 2]] [(0, 1), (0, 2), (1, 0), (1, 2), (2, 0), (2, 1)]\n"
     ]
    }
   ],
   "source": [
    "\n",
    "#finding shortest path between s_i and t_i\n",
    "G = nx.DiGraph()\n",
    "s = [0] # set of sources\n",
    "t = [1] # set of sinks\n",
    "l = len(s)\n",
    "for i in range (n):\n",
    "    for j in range (n):\n",
    "        if int(Am[i][j]) != 0:\n",
    "            G.add_edge(i, j, weight=Am[i][j])\n",
    "nx.shortest_path(G,0,1,weight='weight')\n",
    "p = [] #shortest paths from sinks and sources\n",
    "for i in range (len(s)):\n",
    "    p.append(dijsktra(graph, s[i], t[i]))\n",
    "#finding all cycles in the graph\n",
    "al = list(nx.simple_cycles(G))\n",
    "c = []\n",
    "for i in al:\n",
    "    if len(i) > 2:\n",
    "        c.append(i)\n",
    "e = len(G.edges())"
   ]
  },
  {
   "cell_type": "code",
   "execution_count": null,
   "metadata": {},
   "outputs": [],
   "source": [
    "#implement unitaries; the unitary for cost function is easy to implement; the unitary for mixer is harder, see xy-mixer for reference;\n",
    "def unitary_z(circuit, qubit, gamma):\n",
    "    circuit.u1(-2 * gamma, qubit);\n",
    "    \n",
    "def V(circuit, gamma) #unitary for cost Hamiltonian\n",
    "    for i in range (e)\n",
    "        for k in range (2, l+1):\n",
    "            unitary_z(circuit, e* + k, gamma*(k - 1))\n",
    "            \n",
    "def U(circuit, beta) #unitary for mixer\n"
   ]
  },
  {
   "cell_type": "code",
   "execution_count": null,
   "metadata": {},
   "outputs": [],
   "source": [
    "#implement circuit\n",
    "qubits = e*l + 1; # Qubit 0 is an ancilla.\n",
    "circuit = QuantumCircuit(qubits, e*l);\n",
    "usededges = []\n",
    "for path in p:\n",
    "    for i in range (len(p[path])-1):\n",
    "        usededges.append(p[path][i], p[path][i + 1])\n",
    "for item in G.edges():\n",
    "    i = usededges.count(item)\n",
    "    circuit.x(G.edges().index(item) + i) #prepare initial state\n",
    "        \n"
   ]
  }
 ],
 "metadata": {
  "kernelspec": {
   "display_name": "Python 3",
   "language": "python",
   "name": "python3"
  },
  "language_info": {
   "codemirror_mode": {
    "name": "ipython",
    "version": 3
   },
   "file_extension": ".py",
   "mimetype": "text/x-python",
   "name": "python",
   "nbconvert_exporter": "python",
   "pygments_lexer": "ipython3",
   "version": "3.7.1"
  }
 },
 "nbformat": 4,
 "nbformat_minor": 2
}
